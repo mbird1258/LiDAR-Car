{
 "cells": [
  {
   "cell_type": "code",
   "execution_count": 1,
   "metadata": {},
   "outputs": [],
   "source": [
    "FILENAME = '1'\n",
    "\n",
    "import time\n",
    "import pickle\n",
    "import numpy as np\n",
    "\n",
    "# Create socket to send read data in a consistent way at the corresponding times\n",
    "from Raspi.client import get, send\n",
    "\n",
    "with open(FILENAME + '.pkl', 'rb') as handle:\n",
    "    out, waypoints = pickle.load(handle)\n",
    "\n",
    "if len(out) == 0:\n",
    "    raise SystemExit(\"Empty File\")\n",
    "\n",
    "\n",
    "\n",
    "TimeOffset = time.time()-min(out[0][0][-1], waypoints[0][-1])+3\n",
    "send(TimeOffset)\n",
    "out = [[i[:-1]+[i[-1]+TimeOffset] for i in j] for j in out]\n",
    "LastTime = out[-1][-1]\n",
    "\n",
    "buffer = False\n",
    "flag = False\n",
    "while len(out):\n",
    "    while len(out) and time.time() > out[0][0][-1]:\n",
    "        buffer = out[0]\n",
    "        out = out[1:]\n",
    "    \n",
    "    if flag != [\"Get Lidar\"]: flag = get(blocking=False)\n",
    "    if flag == [\"Get Lidar\"] and buffer != False:\n",
    "        send(buffer)\n",
    "        buffer = False\n",
    "        flag = False"
   ]
  }
 ],
 "metadata": {
  "kernelspec": {
   "display_name": "Python 3",
   "language": "python",
   "name": "python3"
  },
  "language_info": {
   "codemirror_mode": {
    "name": "ipython",
    "version": 3
   },
   "file_extension": ".py",
   "mimetype": "text/x-python",
   "name": "python",
   "nbconvert_exporter": "python",
   "pygments_lexer": "ipython3",
   "version": "3.11.6"
  }
 },
 "nbformat": 4,
 "nbformat_minor": 2
}
