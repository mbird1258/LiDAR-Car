{
 "cells": [
  {
   "cell_type": "code",
   "execution_count": 1,
   "metadata": {},
   "outputs": [],
   "source": [
    "FILENAME = '1'\n",
    "\n",
    "import time\n",
    "import pickle\n",
    "import numpy as np\n",
    "\n",
    "WheelRadius = 32.5\n",
    "WheelGap = 140\n",
    "MaxRpm = 48/13*60*0.3\n",
    "MinRpm = 24/13*60*0.3\n",
    "MaxAngVel = MaxRpm*2*np.pi/60"
   ]
  },
  {
   "cell_type": "code",
   "execution_count": null,
   "metadata": {},
   "outputs": [],
   "source": [
    "# Send movment commands to car and store outputs of rplidar and save with corresponding times\n",
    "import utils\n",
    "\n",
    "CarController = utils.CarController(WheelRadius, WheelGap, MaxRpm, MinRpm)\n",
    "\n",
    "waypoints = np.array([[0                          , 0, 0, 0],\n",
    "                      [MaxAngVel*WheelRadius*3    , 0, 0, 3],\n",
    "                      [MaxAngVel*WheelRadius*3*1.8, 0, 0, 6],\n",
    "                      [MaxAngVel*WheelRadius*3*1.8, 0, 0, 7]])\n",
    "MotorWaypoints = CarController.WaypointsToMotorWaypoints(waypoints)\n",
    "CarController.MotorController.drive(MotorWaypoints)\n",
    "\n",
    "t0 = time.time()\n",
    "waypoints[:, -1] += t0\n",
    "\n",
    "\n",
    "try:\n",
    "    out = []\n",
    "    while True:\n",
    "        val = CarController.GetLidar()\n",
    "        print(val)\n",
    "        \n",
    "        out.append(val)\n",
    "        \n",
    "        if time.time() > waypoints[-1][-1]: break\n",
    "\n",
    "finally:\n",
    "    with open(FILENAME + '.pkl', 'wb') as handle:\n",
    "        pickle.dump([out, waypoints], handle)"
   ]
  },
  {
   "cell_type": "code",
   "execution_count": null,
   "metadata": {},
   "outputs": [],
   "source": [
    "with open(FILENAME + '.pkl', 'rb') as handle:\n",
    "    out, waypoints = pickle.load(handle)\n",
    "\n",
    "print(out)\n",
    "print()\n",
    "print(waypoints)"
   ]
  },
  {
   "cell_type": "code",
   "execution_count": null,
   "metadata": {},
   "outputs": [],
   "source": [
    "# Run the server side code\n",
    "import utils\n",
    "\n",
    "with open(FILENAME + '.pkl', 'rb') as handle:\n",
    "    _, waypoints = pickle.load(handle)\n",
    "\n",
    "if len(waypoints) == 0:\n",
    "    raise SystemExit(\"Empty File\")\n",
    "\n",
    "TimeOffset = utils.get()[0]\n",
    "waypoints = np.array([i[:-1]+[i[-1]+TimeOffset] for i in waypoints.tolist()])\n",
    "\n",
    "CarController = utils.CarController(WheelRadius, WheelGap, MaxRpm, MinRpm)\n",
    "CarController.waypoints = waypoints\n",
    "CarController.MotorWaypoints = CarController.WaypointsToMotorWaypoints(waypoints)\n",
    "print(CarController.MotorWaypoints)\n",
    "while True:\n",
    "    CarController.main(debug=False, DebugVideo=True)"
   ]
  },
  {
   "cell_type": "code",
   "execution_count": null,
   "metadata": {},
   "outputs": [
    {
     "ename": "TypeError",
     "evalue": "expected str, bytes or os.PathLike object, not builtin_function_or_method",
     "output_type": "error",
     "traceback": [
      "\u001b[1;31m---------------------------------------------------------------------------\u001b[0m",
      "\u001b[1;31mTypeError\u001b[0m                                 Traceback (most recent call last)",
      "Cell \u001b[1;32mIn[4], line 7\u001b[0m\n\u001b[0;32m      4\u001b[0m \u001b[38;5;28;01mimport\u001b[39;00m \u001b[38;5;21;01mos\u001b[39;00m\n\u001b[0;32m      6\u001b[0m \u001b[38;5;66;03m# Get sorted list of images\u001b[39;00m\n\u001b[1;32m----> 7\u001b[0m img_files \u001b[38;5;241m=\u001b[39m \u001b[38;5;28msorted\u001b[39m(glob\u001b[38;5;241m.\u001b[39mglob(\u001b[43mos\u001b[49m\u001b[38;5;241;43m.\u001b[39;49m\u001b[43mpath\u001b[49m\u001b[38;5;241;43m.\u001b[39;49m\u001b[43mjoin\u001b[49m\u001b[43m(\u001b[49m\u001b[38;5;28;43mdir\u001b[39;49m\u001b[43m,\u001b[49m\u001b[43m \u001b[49m\u001b[38;5;124;43mr\u001b[39;49m\u001b[38;5;124;43m'\u001b[39;49m\u001b[38;5;124;43m*.png\u001b[39;49m\u001b[38;5;124;43m'\u001b[39;49m\u001b[43m)\u001b[49m), key\u001b[38;5;241m=\u001b[39m\u001b[38;5;28;01mlambda\u001b[39;00m x: \u001b[38;5;28mint\u001b[39m(os\u001b[38;5;241m.\u001b[39mpath\u001b[38;5;241m.\u001b[39mbasename(x)\u001b[38;5;241m.\u001b[39msplit(\u001b[38;5;124m'\u001b[39m\u001b[38;5;124m.\u001b[39m\u001b[38;5;124m'\u001b[39m)[\u001b[38;5;241m0\u001b[39m]))\n\u001b[0;32m      9\u001b[0m \u001b[38;5;66;03m# Determine video size from first image\u001b[39;00m\n\u001b[0;32m     10\u001b[0m img \u001b[38;5;241m=\u001b[39m cv2\u001b[38;5;241m.\u001b[39mimread(img_files[\u001b[38;5;241m0\u001b[39m])\n",
      "File \u001b[1;32m<frozen ntpath>:108\u001b[0m, in \u001b[0;36mjoin\u001b[1;34m(path, *paths)\u001b[0m\n",
      "\u001b[1;31mTypeError\u001b[0m: expected str, bytes or os.PathLike object, not builtin_function_or_method"
     ]
    }
   ],
   "source": [
    "# Convert image files from CarController.DebugVideo to a video\n",
    "import glob\n",
    "import cv2\n",
    "import os\n",
    "\n",
    "dir = 'debug'\n",
    "\n",
    "# Get sorted list of images\n",
    "img_files = sorted(glob.glob(os.path.join(dir, '*.png')), key=lambda x: int(os.path.basename(x).split('.')[0]))\n",
    "\n",
    "# Determine video size from first image\n",
    "img = cv2.imread(img_files[0])\n",
    "height, width, _ = img.shape\n",
    "\n",
    "# Create video writer\n",
    "video_name = os.path.join(dir, 'debug_video.mp4')\n",
    "fourcc = cv2.VideoWriter_fourcc(*'mp4v')\n",
    "video = cv2.VideoWriter(video_name, fourcc, 2.0, (width, height))  # 2 FPS = 0.5s delay\n",
    "\n",
    "for img_file in img_files:\n",
    "    img = cv2.imread(img_file)\n",
    "    video.write(img)\n",
    "    \n",
    "video.release()"
   ]
  }
 ],
 "metadata": {
  "kernelspec": {
   "display_name": "Python 3",
   "language": "python",
   "name": "python3"
  },
  "language_info": {
   "codemirror_mode": {
    "name": "ipython",
    "version": 3
   },
   "file_extension": ".py",
   "mimetype": "text/x-python",
   "name": "python",
   "nbconvert_exporter": "python",
   "pygments_lexer": "ipython3",
   "version": "3.11.6"
  }
 },
 "nbformat": 4,
 "nbformat_minor": 2
}
