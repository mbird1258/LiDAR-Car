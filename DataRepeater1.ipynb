{
 "cells": [
  {
   "cell_type": "code",
   "execution_count": 1,
   "metadata": {},
   "outputs": [],
   "source": [
    "FILENAME = '1'\n",
    "\n",
    "import time\n",
    "import pickle\n",
    "import numpy as np\n",
    "\n",
    "WheelRadius = 32.5\n",
    "WheelGap = 140\n",
    "MaxRpm = 48/13*60*0.3\n",
    "MinRpm = 24/13*60*0.3\n",
    "MaxAngVel = MaxRpm*2*np.pi/60"
   ]
  },
  {
   "cell_type": "code",
   "execution_count": null,
   "metadata": {},
   "outputs": [],
   "source": [
    "# Send movment commands to car and store outputs of rplidar and save with corresponding times\n",
    "import utils\n",
    "\n",
    "CarController = utils.CarController(WheelRadius, WheelGap, MaxRpm, MinRpm)\n",
    "\n",
    "waypoints = np.array([[0                          , 0, 0, 0],\n",
    "                      [MaxAngVel*WheelRadius*3    , 0, 0, 3],\n",
    "                      [MaxAngVel*WheelRadius*3*1.8, 0, 0, 6],\n",
    "                      [MaxAngVel*WheelRadius*3*1.8, 0, 0, 7]])\n",
    "MotorWaypoints = CarController.WaypointsToMotorWaypoints(waypoints)\n",
    "CarController.MotorController.drive(MotorWaypoints)\n",
    "\n",
    "t0 = time.time()\n",
    "waypoints[:, -1] += t0\n",
    "\n",
    "\n",
    "try:\n",
    "    out = []\n",
    "    while True:\n",
    "        val = CarController.GetLidar()\n",
    "        print(val)\n",
    "        \n",
    "        out.append(val)\n",
    "        \n",
    "        if time.time() > waypoints[-1][-1]: break\n",
    "\n",
    "finally:\n",
    "    with open(FILENAME + '.pkl', 'wb') as handle:\n",
    "        pickle.dump([out, waypoints], handle)"
   ]
  },
  {
   "cell_type": "code",
   "execution_count": null,
   "metadata": {},
   "outputs": [],
   "source": [
    "with open(FILENAME + '.pkl', 'rb') as handle:\n",
    "    out, waypoints = pickle.load(handle)\n",
    "\n",
    "print(out)\n",
    "print()\n",
    "print(waypoints)"
   ]
  },
  {
   "cell_type": "code",
   "execution_count": null,
   "metadata": {},
   "outputs": [],
   "source": [
    "# Run the server side code\n",
    "import utils\n",
    "\n",
    "with open(FILENAME + '.pkl', 'rb') as handle:\n",
    "    _, waypoints = pickle.load(handle)\n",
    "\n",
    "if len(waypoints) == 0:\n",
    "    raise SystemExit(\"Empty File\")\n",
    "\n",
    "TimeOffset = utils.get()[0]\n",
    "waypoints = np.array([i[:-1]+[i[-1]+TimeOffset] for i in waypoints.tolist()])\n",
    "\n",
    "CarController = utils.CarController(WheelRadius, WheelGap, MaxRpm, MinRpm)\n",
    "CarController.waypoints = waypoints\n",
    "CarController.MotorWaypoints = CarController.WaypointsToMotorWaypoints(waypoints)\n",
    "print(CarController.MotorWaypoints)\n",
    "while True:\n",
    "    CarController.main(debug=False, DebugVideo=True)"
   ]
  },
  {
   "cell_type": "code",
   "execution_count": 5,
   "metadata": {},
   "outputs": [],
   "source": [
    "# Convert image files from CarController.DebugVideo to a video\n",
    "import glob\n",
    "import cv2\n",
    "import os\n",
    "\n",
    "dir = 'debug'\n",
    "\n",
    "# Get sorted list of images\n",
    "img_files = sorted(glob.glob(os.path.join(dir, '*.png')), key=lambda x: int(os.path.basename(x).split('.')[0]))\n",
    "\n",
    "# Determine video size from first image\n",
    "img = cv2.imread(img_files[0])\n",
    "height, width, _ = img.shape\n",
    "\n",
    "# Create video writer\n",
    "video_name = os.path.join(dir, 'debug_video.mp4')\n",
    "fourcc = cv2.VideoWriter_fourcc(*'mp4v')\n",
    "video = cv2.VideoWriter(video_name, fourcc, 2.0, (width, height))  # 2 FPS = 0.5s delay\n",
    "\n",
    "for img_file in img_files:\n",
    "    img = cv2.imread(img_file)\n",
    "    video.write(img)\n",
    "    \n",
    "video.release()"
   ]
  }
 ],
 "metadata": {
  "kernelspec": {
   "display_name": "Python 3",
   "language": "python",
   "name": "python3"
  },
  "language_info": {
   "codemirror_mode": {
    "name": "ipython",
    "version": 3
   },
   "file_extension": ".py",
   "mimetype": "text/x-python",
   "name": "python",
   "nbconvert_exporter": "python",
   "pygments_lexer": "ipython3",
   "version": "3.11.6"
  }
 },
 "nbformat": 4,
 "nbformat_minor": 2
}
